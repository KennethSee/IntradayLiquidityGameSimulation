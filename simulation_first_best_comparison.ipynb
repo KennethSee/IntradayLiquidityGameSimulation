{
 "cells": [
  {
   "cell_type": "markdown",
   "metadata": {},
   "source": [
    "# Comparison against First Best"
   ]
  },
  {
   "cell_type": "markdown",
   "metadata": {},
   "source": [
    "The goal here is to compare both the traditional and mechanism-implemented game against the first best option."
   ]
  },
  {
   "cell_type": "code",
   "execution_count": 1,
   "metadata": {},
   "outputs": [],
   "source": [
    "import os\n",
    "import glob\n",
    "import numpy as np\n",
    "import pandas as pd\n",
    "import math\n",
    "import random\n",
    "import itertools\n",
    "from typing import List, Dict\n",
    "import matplotlib.pyplot as plt\n",
    "import seaborn as sns\n",
    "from collections import namedtuple, defaultdict\n",
    "from pandas.plotting import parallel_coordinates\n",
    "# from PSSimPy.simulator import ABMSim\n",
    "from PSSimPy import Bank, Account\n",
    "from PSSimPy.credit_facilities import AbstractCreditFacility\n",
    "from PSSimPy.utils import add_minutes_to_time, minutes_between\n",
    "\n",
    "from MDP import MechMDPSearch, MDPStateExt, TradMDPSearch, MDPStateTrad\n",
    "from SimClasses import ABMSim"
   ]
  },
  {
   "cell_type": "markdown",
   "metadata": {},
   "source": [
    "## Setup"
   ]
  },
  {
   "cell_type": "markdown",
   "metadata": {},
   "source": []
  }
 ],
 "metadata": {
  "kernelspec": {
   "display_name": "intradayliquiditygame",
   "language": "python",
   "name": "python3"
  },
  "language_info": {
   "codemirror_mode": {
    "name": "ipython",
    "version": 3
   },
   "file_extension": ".py",
   "mimetype": "text/x-python",
   "name": "python",
   "nbconvert_exporter": "python",
   "pygments_lexer": "ipython3",
   "version": "3.13.2"
  }
 },
 "nbformat": 4,
 "nbformat_minor": 2
}

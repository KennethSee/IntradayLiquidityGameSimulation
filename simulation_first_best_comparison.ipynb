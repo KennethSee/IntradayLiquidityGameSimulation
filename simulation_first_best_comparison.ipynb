{
 "cells": [
  {
   "cell_type": "markdown",
   "metadata": {},
   "source": [
    "# Comparison against First Best"
   ]
  },
  {
   "cell_type": "markdown",
   "metadata": {},
   "source": [
    "The goal here is to compare both the traditional and mechanism-implemented game against the first best option."
   ]
  },
  {
   "cell_type": "code",
   "execution_count": 1,
   "metadata": {},
   "outputs": [],
   "source": [
    "import os\n",
    "import glob\n",
    "import numpy as np\n",
    "import pandas as pd\n",
    "import math\n",
    "import random\n",
    "import itertools\n",
    "from typing import List, Dict\n",
    "import matplotlib.pyplot as plt\n",
    "import seaborn as sns\n",
    "from collections import namedtuple, defaultdict\n",
    "from pandas.plotting import parallel_coordinates\n",
    "# from PSSimPy.simulator import ABMSim\n",
    "from PSSimPy import Bank, Account\n",
    "from PSSimPy.credit_facilities import AbstractCreditFacility\n",
    "from PSSimPy.utils import add_minutes_to_time, minutes_between\n",
    "\n",
    "from MDP import MechMDPSearch, MDPStateExt, TradMDPSearch, MDPStateTrad\n",
    "from SimClasses import ABMSim"
   ]
  },
  {
   "cell_type": "markdown",
   "metadata": {},
   "source": [
    "## Setup"
   ]
  },
  {
   "cell_type": "code",
   "execution_count": null,
   "metadata": {},
   "outputs": [],
   "source": [
    "class FirstBestBank(Bank):\n",
    "\n",
    "    def cheapest_feasible_channels(self):\n",
    "        options = []\n",
    "\n",
    "        if self.posted_collateral > 0:\n",
    "            options.append((\"trad\", gamma, self.posted_collateral, gamma))\n",
    "\n",
    "        unpledged = sum(tx.amount for tx in self.txn_in\n",
    "                        if tx.status_code == 0 and not tx.pledged)\n",
    "        if unpledged > 0:\n",
    "            options.append((\"claim\", phi, unpledged, phi))\n",
    "\n",
    "        options.append((\"unsec\", chi, float('inf'), chi))\n",
    "        options.append((\"delay\", delta, float('inf'), delta))\n",
    "\n",
    "        # sort by marginal cost\n",
    "        return sorted(options, key=lambda x: x[3])\n",
    "\n",
    "    def strategy(self, txns_to_settle, *_):\n",
    "        if not txns_to_settle:\n",
    "            return set()\n",
    "\n",
    "        obligation = sum(tx.amount for tx in txns_to_settle)\n",
    "        shortfall  = max(0.0, obligation - self.balance)\n",
    "\n",
    "        # Greedy covering of shortfall\n",
    "        for ch_name, ch_cost, capacity, _ in self.cheapest_feasible_channels():\n",
    "            if ch_name == \"delay\":               # cheapest is already delay\n",
    "                return set()                     # planner delays whole batch\n",
    "\n",
    "            take = min(capacity, shortfall)\n",
    "            if take > 0:\n",
    "                # account bookkeeping\n",
    "                if ch_name == \"trad\":\n",
    "                    self.posted_collateral -= take\n",
    "                elif ch_name == \"claim\":\n",
    "                    amount_left = take\n",
    "                    for tx in self.txn_in:\n",
    "                        if tx.status_code == 0 and not tx.pledged:\n",
    "                            pledge = min(amount_left, tx.amount)\n",
    "                            tx.pledged = True\n",
    "                            amount_left -= pledge\n",
    "                            if amount_left == 0:\n",
    "                                break\n",
    "                # unsecured needs no inventory\n",
    "                self.balance += take\n",
    "                shortfall   -= take\n",
    "\n",
    "            if shortfall == 0:\n",
    "                return txns_to_settle\n",
    "\n",
    "        # still shortage after exhausting all credit => delay\n",
    "        return set()\n"
   ]
  },
  {
   "cell_type": "markdown",
   "metadata": {},
   "source": []
  }
 ],
 "metadata": {
  "kernelspec": {
   "display_name": "intradayliquiditygame",
   "language": "python",
   "name": "python3"
  },
  "language_info": {
   "codemirror_mode": {
    "name": "ipython",
    "version": 3
   },
   "file_extension": ".py",
   "mimetype": "text/x-python",
   "name": "python",
   "nbconvert_exporter": "python",
   "pygments_lexer": "ipython3",
   "version": "3.13.2"
  }
 },
 "nbformat": 4,
 "nbformat_minor": 2
}

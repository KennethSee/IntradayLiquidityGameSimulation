{
 "cells": [
  {
   "cell_type": "code",
   "execution_count": 2,
   "metadata": {},
   "outputs": [],
   "source": [
    "import os\n",
    "import glob\n",
    "import numpy as np\n",
    "import pandas as pd\n",
    "import math\n",
    "import random\n",
    "import matplotlib.pyplot as plt\n",
    "from collections import namedtuple\n",
    "from PSSimPy.simulator import ABMSim\n",
    "from PSSimPy import Bank\n",
    "from PSSimPy.utils import add_minutes_to_time"
   ]
  },
  {
   "cell_type": "markdown",
   "metadata": {},
   "source": [
    "# Set Up Strategic Behavior"
   ]
  },
  {
   "cell_type": "markdown",
   "metadata": {},
   "source": [
    "## Original Intrady Liquidity Game"
   ]
  },
  {
   "cell_type": "code",
   "execution_count": 3,
   "metadata": {},
   "outputs": [],
   "source": [
    "# state: s = (t, b, β, ω, E)\n",
    "MDPState = namedtuple(\"MDPState\", [\n",
    "    \"t\", \n",
    "    \"balance\", \n",
    "    \"borrowed\", \n",
    "    \"obligations\", \n",
    "    \"expected_inbound\"\n",
    "])"
   ]
  },
  {
   "cell_type": "code",
   "execution_count": 4,
   "metadata": {},
   "outputs": [],
   "source": [
    "class OriMDPSearch:\n",
    "    \"\"\"\n",
    "    MDP formulation for the focal player's decision in an n-player Intraday Liquidity Game.\n",
    "    \n",
    "    State: s = (t, b, β, ω, E), where:\n",
    "      - t: current period,\n",
    "      - b: focal player's balance,\n",
    "      - β: focal player's borrowed amount,\n",
    "      - ω: focal player's outstanding obligations,\n",
    "      - E: aggregate expected inbound payment from the n-1 opponents, \n",
    "           given by E_t = (n-1)p_tz^*.\n",
    "    \n",
    "    Here, p_t is the probability that an obligation arises (per opponent) in period t.\n",
    "    If an obligation arises, opponents pay the focal player if their dominant strategy is to pay,\n",
    "    which (with tie → pay) implies z^* = 1 when γ ≤ δ, and 0 when γ > δ.\n",
    "    Under pure rational expectations (i.e., with ζ = 0), agents do not update their expectations.\n",
    "    \n",
    "    The focal player has two strategies:\n",
    "      0 = Delay: incur delay cost δ per unit of obligation; obligations carry forward.\n",
    "      1 = Pay: if b < ω, borrow the shortfall at cost γ per unit; clear obligations;\n",
    "           any excess balance repays borrowing.\n",
    "           \n",
    "    The focal player also pays a carry cost of γ·β each period.\n",
    "    \n",
    "    We solve the MDP via depth-limited dynamic programming, reflecting bounded rationality.\n",
    "    \"\"\"\n",
    "    \n",
    "    def __init__(self, \n",
    "                 n_players=4,\n",
    "                 n_periods=4, \n",
    "                 p_t=0.8,      # probability an obligation arises per opponent in a period\n",
    "                 delta=0.2, \n",
    "                 gamma=0.1,\n",
    "                 zeta=0.0,     # learning rate, set to 0 for pure RE\n",
    "                 seed=42):\n",
    "        \"\"\"\n",
    "        n_players   : total players (focal + opponents)\n",
    "        n_periods   : horizon for the MDP\n",
    "        p_t         : probability an obligation arises per opponent\n",
    "        delta       : per-unit delay cost\n",
    "        gamma       : cost for borrowing and carrying borrowed funds\n",
    "        zeta        : learning rate for updating expectations (set to 0 for pure RE)\n",
    "        seed        : random seed for reproducibility\n",
    "        \"\"\"\n",
    "        random.seed(seed)\n",
    "        self.n_players = n_players\n",
    "        self.n_periods = n_periods\n",
    "        self.p_t = p_t\n",
    "        self.delta = delta\n",
    "        self.gamma = gamma\n",
    "        self.zeta = zeta  # with zeta=0, no updating occurs\n",
    "        # Dominant strategy assumption: if γ ≤ δ then opponents pay, i.e., z^*=1; otherwise, z^*=0.\n",
    "        self.z_star = 1.0 if self.gamma <= self.delta else 0.0\n",
    "\n",
    "    def initial_state(self):\n",
    "        \"\"\"\n",
    "        The initial state: the focal player's balance, borrowed, and obligations are zero.\n",
    "        The initial aggregate expected inbound is:\n",
    "           E₀ = (n_players - 1) * p_t * z_star.\n",
    "        \"\"\"\n",
    "        E0 = (self.n_players - 1) * self.p_t * self.z_star\n",
    "        return MDPState(\n",
    "            t=0,\n",
    "            balance=0.0,\n",
    "            borrowed=0.0,\n",
    "            obligations=0.0,\n",
    "            expected_inbound=E0\n",
    "        )\n",
    "\n",
    "    def carry_cost(self, borrowed):\n",
    "        \"\"\"Cost for carrying borrowed funds over one period.\"\"\"\n",
    "        return self.gamma * borrowed if borrowed > 0 else 0.0\n",
    "\n",
    "    def transition_function(self, state, action):\n",
    "        \"\"\"\n",
    "        Given state s = (t, b, β, ω, E) and focal action a ∈ {0,1},\n",
    "        return a list of (next_state, probability, immediate_cost).\n",
    "        \n",
    "        Here, we assume that in each period, every opponent independently generates an obligation \n",
    "        with probability p_t, so that on average, (n_players - 1)*p_t obligations arrive.\n",
    "        For simplicity, we assume that the number of new obligations is exactly (n-1)p_t.\n",
    "        \n",
    "        The focal player's balance is increased by the aggregate expected inbound E,\n",
    "        and then the chosen action is applied:\n",
    "         - If a = 1 (Pay): if b + E < ω + (n-1)p_t, the focal borrows the shortfall (cost = γ*(shortfall)); \n",
    "           obligations clear.\n",
    "         - If a = 0 (Delay): cost = δ times the total obligations.\n",
    "        In both cases, a carry cost γβ is added.\n",
    "        \"\"\"\n",
    "        if state.t >= self.n_periods:\n",
    "            return [(state, 1.0, 0.0)]\n",
    "        \n",
    "        # Compute carry cost\n",
    "        cost_carry = self.carry_cost(state.borrowed)\n",
    "        # Inbound: focal's balance increases by E\n",
    "        mid_balance = state.balance + state.expected_inbound\n",
    "        # New obligations: exactly (n-1)p_t arrive\n",
    "        new_arrivals = (self.n_players - 1) * self.p_t\n",
    "        new_oblig = state.obligations + new_arrivals\n",
    "\n",
    "        if action == 1:  # Pay\n",
    "            shortfall = max(0.0, new_oblig - mid_balance)\n",
    "            cost_borrow = self.gamma * shortfall if shortfall > 0 else 0.0\n",
    "\n",
    "            new_balance = mid_balance\n",
    "            new_borrowed = state.borrowed\n",
    "            if shortfall > 0:\n",
    "                new_balance = 0.0\n",
    "                new_borrowed += shortfall\n",
    "                new_oblig_after = 0.0\n",
    "            else:\n",
    "                new_balance = mid_balance - new_oblig\n",
    "                new_oblig_after = 0.0\n",
    "\n",
    "            if new_balance > 0 and new_borrowed > 0:\n",
    "                repay = min(new_balance, new_borrowed)\n",
    "                new_borrowed -= repay\n",
    "                new_balance -= repay\n",
    "\n",
    "            immediate_cost = cost_carry + cost_borrow\n",
    "            next_state = MDPState(\n",
    "                t=state.t + 1,\n",
    "                balance=new_balance,\n",
    "                borrowed=new_borrowed,\n",
    "                obligations=new_oblig_after,\n",
    "                expected_inbound=state.expected_inbound  # under pure RE, remains constant\n",
    "            )\n",
    "            return [(next_state, 1.0, immediate_cost)]\n",
    "        else:  # Delay\n",
    "            cost_delay = self.delta * new_oblig\n",
    "            immediate_cost = cost_carry + cost_delay\n",
    "            next_state = MDPState(\n",
    "                t=state.t + 1,\n",
    "                balance=mid_balance,\n",
    "                borrowed=state.borrowed,\n",
    "                obligations=new_oblig,\n",
    "                expected_inbound=state.expected_inbound\n",
    "            )\n",
    "            return [(next_state, 1.0, immediate_cost)]\n",
    "\n",
    "    def actions(self, state):\n",
    "        \"\"\"Return the focal player's actions: 0 = Delay, 1 = Pay.\"\"\"\n",
    "        return [0, 1]\n",
    "\n",
    "    def state_to_key(self, state):\n",
    "        \"\"\"Convert state into a hashable tuple for memoization.\"\"\"\n",
    "        return (state.t, round(state.balance,4), round(state.borrowed,4),\n",
    "                round(state.obligations,4), round(state.expected_inbound,4))\n",
    "\n",
    "    def depth_limited_value(self, state, depth, memo=None):\n",
    "        \"\"\"\n",
    "        Depth-limited lookahead from state up to 'depth' periods.\n",
    "        Returns (best_value, best_action) where best_value is the maximum expected reward \n",
    "        (i.e., negative total cost) and best_action ∈ {0,1}.\n",
    "        \n",
    "        This recursive algorithm uses memoization. The limited depth represents the \n",
    "        bounded rationality of the focal player in forming its rational expectation.\n",
    "        \"\"\"\n",
    "        if memo is None:\n",
    "            memo = {}\n",
    "        if depth <= 0 or state.t >= self.n_periods:\n",
    "            return (0.0, None)\n",
    "        key = (self.state_to_key(state), depth)\n",
    "        if key in memo:\n",
    "            return memo[key]\n",
    "        best_value = float('-inf')\n",
    "        best_action = None\n",
    "        for a in self.actions(state):\n",
    "            transitions = self.transition_function(state, a)\n",
    "            total_val = 0.0\n",
    "            for (ns, prob, cost) in transitions:\n",
    "                immediate_reward = -cost  # cost is a negative reward\n",
    "                future_val, _ = self.depth_limited_value(ns, depth - 1, memo)\n",
    "                total_val += prob * (immediate_reward + future_val)\n",
    "            if total_val > best_value:\n",
    "                best_value = total_val\n",
    "                best_action = a\n",
    "        memo[key] = (best_value, best_action)\n",
    "        return memo[key]\n",
    "\n",
    "    def update_current_state(self, current_state, focal_action, partial_observations):\n",
    "        \"\"\"\n",
    "        Update the current state based on the focal player's chosen action and partial observations.\n",
    "        \n",
    "        partial_observations is a dictionary containing:\n",
    "          - \"inbound_payments\": actual inbound payment received,\n",
    "          - \"arrived_obligations\": number of new obligations that actually arrived,\n",
    "          - \"observed_expected\": observed aggregate inbound (e.g., from opponents).\n",
    "        \n",
    "        Under our pure rational expectations assumption (with ζ = 0), the aggregate expectation\n",
    "        remains fixed as E_t = (n-1)p_tz^*. However, to allow for potential deviations, we include \n",
    "        an update rule:\n",
    "        \n",
    "          E' = ζ · (observed_expected) + (1 - ζ) · E.\n",
    "          \n",
    "        Setting ζ = 0 recovers the pure RE case.\n",
    "        \n",
    "        Returns the updated state s' = (t+1, b', β', ω', E').\n",
    "        \"\"\"\n",
    "        observed_inbound = partial_observations.get(\"inbound_payments\", 0.0)\n",
    "        new_balance_pre = current_state.balance + observed_inbound\n",
    "        arrived = partial_observations.get(\"arrived_obligations\", 0)\n",
    "        new_obligations = current_state.obligations + arrived\n",
    "        observed_expected = partial_observations.get(\"observed_expected\", current_state.expected_inbound)\n",
    "        new_expected = self.zeta * observed_expected + (1 - self.zeta) * current_state.expected_inbound\n",
    "\n",
    "        if focal_action == 1:  # Pay\n",
    "            shortfall = max(0.0, new_obligations - new_balance_pre)\n",
    "            new_borrowed = current_state.borrowed + shortfall\n",
    "            if shortfall > 0:\n",
    "                new_balance = 0.0\n",
    "                new_oblig_after = 0.0\n",
    "            else:\n",
    "                new_balance = new_balance_pre - new_obligations\n",
    "                new_oblig_after = 0.0\n",
    "            if new_balance > 0 and new_borrowed > 0:\n",
    "                repay = min(new_balance, new_borrowed)\n",
    "                new_borrowed -= repay\n",
    "                new_balance -= repay\n",
    "            next_state = MDPState(\n",
    "                t=current_state.t + 1,\n",
    "                balance=new_balance,\n",
    "                borrowed=new_borrowed,\n",
    "                obligations=new_oblig_after,\n",
    "                expected_inbound=new_expected\n",
    "            )\n",
    "            return next_state\n",
    "        else:  # Delay\n",
    "            next_state = MDPState(\n",
    "                t=current_state.t + 1,\n",
    "                balance=new_balance_pre,\n",
    "                borrowed=current_state.borrowed,\n",
    "                obligations=new_obligations,\n",
    "                expected_inbound=new_expected\n",
    "            )\n",
    "            return next_state"
   ]
  },
  {
   "cell_type": "code",
   "execution_count": 5,
   "metadata": {},
   "outputs": [
    {
     "name": "stdout",
     "output_type": "stream",
     "text": [
      "Initial state: MDPState(t=0, balance=0.0, borrowed=0.0, obligations=0.0, expected_inbound=7.2)\n",
      "Best value = 0.00, best action = PAY\n",
      "Updated state after partial observations and chosen action: MDPState(t=1, balance=0.0, borrowed=1.0, obligations=0.0, expected_inbound=7.2)\n",
      "Best value = -1.80, best action = PAY\n",
      "Updated state after partial observations and chosen action: MDPState(t=2, balance=0.0, borrowed=1.0, obligations=0.0, expected_inbound=7.2)\n",
      "Best value = -1.60, best action = PAY\n",
      "Updated state after partial observations and chosen action: MDPState(t=3, balance=0.0, borrowed=2.0, obligations=0.0, expected_inbound=7.2)\n",
      "Best value = -2.80, best action = PAY\n",
      "Updated state after partial observations and chosen action: MDPState(t=4, balance=0.0, borrowed=1.0, obligations=0.0, expected_inbound=7.2)\n",
      "Best value = -1.20, best action = PAY\n",
      "Updated state after partial observations and chosen action: MDPState(t=5, balance=0.0, borrowed=1.0, obligations=0.0, expected_inbound=7.2)\n",
      "Best value = -1.00, best action = PAY\n",
      "Updated state after partial observations and chosen action: MDPState(t=6, balance=0.0, borrowed=2.0, obligations=0.0, expected_inbound=7.2)\n",
      "Best value = -1.60, best action = PAY\n",
      "Updated state after partial observations and chosen action: MDPState(t=7, balance=0.0, borrowed=6.0, obligations=0.0, expected_inbound=7.2)\n",
      "Best value = -3.60, best action = PAY\n",
      "Updated state after partial observations and chosen action: MDPState(t=8, balance=0.0, borrowed=10.0, obligations=0.0, expected_inbound=7.2)\n",
      "Best value = -4.00, best action = PAY\n",
      "Updated state after partial observations and chosen action: MDPState(t=9, balance=0.0, borrowed=11.0, obligations=0.0, expected_inbound=7.2)\n",
      "Best value = -2.20, best action = PAY\n",
      "Updated state after partial observations and chosen action: MDPState(t=10, balance=0.0, borrowed=13.0, obligations=0.0, expected_inbound=7.2)\n"
     ]
    }
   ],
   "source": [
    "# Smoke test\n",
    "n_periods = 10\n",
    "n_players = 10\n",
    "p_t = 0.8\n",
    "mdp = OriMDPSearch(\n",
    "    n_players=n_players,\n",
    "    n_periods=n_periods,\n",
    "    p_t=p_t,\n",
    "    delta=0.3,\n",
    "    gamma=0.2,\n",
    "    seed=42\n",
    ")\n",
    "\n",
    "init_state = mdp.initial_state()\n",
    "print(\"Initial state:\", init_state)\n",
    "next_state = init_state\n",
    "\n",
    "while n_periods > 0:\n",
    "    best_val, best_act = mdp.depth_limited_value(next_state, depth=n_periods)\n",
    "    print(f\"Best value = {best_val:.2f}, best action = {'DELAY' if best_act==0 else 'PAY'}\")\n",
    "\n",
    "    # actual partial observations\n",
    "    inbound_payments = sum([1 if random.uniform(0.0, 1.0) <= p_t else 0 for _ in range(n_players - 1)])\n",
    "    arrived_obligations = sum([1 if random.uniform(0.0, 1.0) <= p_t else 0 for _ in range(n_players - 1)])\n",
    "    partial_obs = {\n",
    "        \"inbound_payments\": inbound_payments,\n",
    "        \"arrived_obligations\": arrived_obligations,\n",
    "        \"observed_expected\": 0.75 # not important\n",
    "    }\n",
    "\n",
    "    # next state\n",
    "    next_state = mdp.update_current_state(next_state, best_act, partial_obs)\n",
    "    print(\"Updated state after partial observations and chosen action:\", next_state)\n",
    "\n",
    "    n_periods -= 1"
   ]
  },
  {
   "cell_type": "code",
   "execution_count": 6,
   "metadata": {},
   "outputs": [],
   "source": [
    "mdp = OriMDPSearch(\n",
    "    n_players=n_players,\n",
    "    n_periods=n_periods,\n",
    "    p_t=0.8, # to be defined as a global variable\n",
    "    delta=0.2, # to be defined as a global variable\n",
    "    gamma=0.3, # to be defined as a global variable\n",
    "    seed=42\n",
    ")\n",
    "\n",
    "# Set up strategic bank agent\n",
    "class OriStrategicBank(Bank):\n",
    "\n",
    "    def __init__(self, name, strategy_type='OriStrategic', **kwargs):\n",
    "        super().__init__(name, strategy_type, **kwargs)\n",
    "        self.mdp_state = mdp.initial_state() # mdp needs to be redefined before each simulation run\n",
    "        self.mdp_previous_action = 0\n",
    "        self.n_periods = 10\n",
    "    \n",
    "    # overwrite strategy\n",
    "    def strategy(self, txns_to_settle: set, all_outstanding_transactions: set, sim_name: str, day: int, current_time: str, queue) -> set:\n",
    "        if len(txns_to_settle) == 0:\n",
    "            return set()\n",
    "        else:\n",
    "            # we assume 1:1 mapping of bank to account so we can just extract any txn and use that account\n",
    "            txn = txns_to_settle.copy().pop()\n",
    "            bank_account = txn.sender_account\n",
    "\n",
    "        if current_time == \"08:00\":\n",
    "            pass\n",
    "        else:\n",
    "            # calculate actual inbound payments from previous period\n",
    "            previous_time = add_minutes_to_time(current_time, -15)\n",
    "            df_processed_txns = pd.read_csv(f'{sim_name}-processed_transactions.csv')\n",
    "            filtered_df = df_processed_txns[(df_processed_txns['to_account'] == bank_account) & \n",
    "                    (df_processed_txns['settlement_time'] == previous_time)]\n",
    "            inbound_payments = filtered_df['amount'].sum()\n",
    "\n",
    "            # calculate amount of obligations that arrived in this period\n",
    "            arrived_obligations = sum([txn.amount for txn in txns_to_settle if txn.arrival_time == current_time])\n",
    "\n",
    "            partial_obs = {\n",
    "                \"inbound_payments\": inbound_payments,\n",
    "                \"arrived_obligations\": arrived_obligations,\n",
    "                \"observed_expected\": 0.75 # not important\n",
    "            }\n",
    "\n",
    "            self.mdp_state = mdp.update_current_state(self.mdp_state, self.mdp_previous_action, partial_obs)\n",
    "\n",
    "        _, best_act = mdp.depth_limited_value(self.mdp_state, depth=self.n_periods)\n",
    "        self.n_periods -= 1\n",
    "        self.mdp_previous_action = best_act\n",
    "\n",
    "        if best_act == 1:\n",
    "            return txns_to_settle\n",
    "        else:\n",
    "            return set()\n",
    "        "
   ]
  },
  {
   "cell_type": "code",
   "execution_count": 7,
   "metadata": {},
   "outputs": [],
   "source": [
    "class RandomBank(Bank):\n",
    "    def __init__(self, name, strategy_type='OriStrategic', **kwargs):\n",
    "        super().__init__(name, strategy_type, **kwargs)\n",
    "\n",
    "    # overwrite strategy\n",
    "    def strategy(self, txns_to_settle: set, all_outstanding_transactions: set, sim_name: str, day: int, current_time: str, queue) -> set:\n",
    "        r = random.randint(0, 1)\n",
    "        if r == 1:\n",
    "            return txns_to_settle\n",
    "        else:\n",
    "            return set()"
   ]
  },
  {
   "cell_type": "markdown",
   "metadata": {},
   "source": [
    "# Calculation functions"
   ]
  },
  {
   "cell_type": "code",
   "execution_count": 8,
   "metadata": {},
   "outputs": [],
   "source": [
    "def calculate_delay_cost(sim_name, account: str, delta: float):\n",
    "    df_processed_txns = pd.read_csv(f\"{sim_name}-processed_transactions.csv\")\n",
    "\n",
    "    # Filter transactions for the given account\n",
    "    relevant_txns = df_processed_txns[df_processed_txns['from_account'] == account]\n",
    "    \n",
    "    # Initialize total delay cost\n",
    "    total_delay_cost = 0\n",
    "    \n",
    "    # Calculate delay cost for each transaction\n",
    "    for _, row in relevant_txns.iterrows():\n",
    "        # Extract submission_time and time as datetime objects\n",
    "        submission_time = pd.to_datetime(row['submission_time'])\n",
    "        txn_time = pd.to_datetime(row['time'])\n",
    "        \n",
    "        # Calculate the delay in minutes (convert Timedelta to minutes)\n",
    "        delay_minutes = (submission_time - txn_time).total_seconds() / 60\n",
    "        \n",
    "        # Calculate the delay cost\n",
    "        delay_cost = (delay_minutes / 15) * delta\n",
    "        \n",
    "        # Accumulate the delay cost\n",
    "        total_delay_cost += delay_cost\n",
    "    \n",
    "    return total_delay_cost"
   ]
  },
  {
   "cell_type": "code",
   "execution_count": 9,
   "metadata": {},
   "outputs": [],
   "source": [
    "def calculate_borrowing_cost(sim_name, account: str, gamma: float):\n",
    "    df_credit_facility = pd.read_csv(f'{sim_name}-credit_facility.csv')\n",
    "    \n",
    "    # Filter for the given account\n",
    "    relevant_credit = df_credit_facility[df_credit_facility['account'] == account]\n",
    "\n",
    "    # Initialize total borrowing cost\n",
    "    total_borrowing_cost = 0\n",
    "\n",
    "    # Calculate borrowing cost at each period\n",
    "    for _, row in relevant_credit.iterrows():\n",
    "        borrowed_amount = row['total_credit']\n",
    "        borrowing_cost = borrowed_amount * gamma\n",
    "        total_borrowing_cost += borrowing_cost\n",
    "    \n",
    "    return total_borrowing_cost"
   ]
  },
  {
   "cell_type": "markdown",
   "metadata": {},
   "source": [
    "# Simulation"
   ]
  },
  {
   "cell_type": "code",
   "execution_count": 10,
   "metadata": {},
   "outputs": [],
   "source": [
    "banks = pd.read_csv('data_input/bank_template_with_strategy.csv')\n",
    "accounts = pd.read_csv('data_input/account_template_with_collateral.csv')\n",
    "\n",
    "strategy_mapping = {'OriStrategic': OriStrategicBank, 'Random': RandomBank}\n",
    "\n",
    "sim = ABMSim(name='test_sim', banks=banks, accounts=accounts, strategy_mapping=strategy_mapping, open_time='08:00', close_time='10:30', eod_force_settlement=True, txn_arrival_prob=0.8, txn_amount_range=(1,1))\n",
    "sim.run()"
   ]
  },
  {
   "cell_type": "markdown",
   "metadata": {},
   "source": [
    "## Original Game - Strategic vs Not Strategic"
   ]
  },
  {
   "cell_type": "markdown",
   "metadata": {},
   "source": [
    "#### Functions"
   ]
  },
  {
   "cell_type": "code",
   "execution_count": 23,
   "metadata": {},
   "outputs": [],
   "source": [
    "def simulate_original_game(p_t: float, delta: float, gamma: float, seed: int, strategic: bool, focal_account='acc3'):\n",
    "    mdp = OriMDPSearch(\n",
    "        n_players=10,\n",
    "        n_periods=10,\n",
    "        p_t=p_t, # to be defined as a global variable\n",
    "        delta=delta, # to be defined as a global variable\n",
    "        gamma=gamma, # to be defined as a global variable\n",
    "        seed=42\n",
    "    )\n",
    "            \n",
    "\n",
    "    # strategic play\n",
    "    if strategic:\n",
    "        banks = pd.read_csv('data_input/bank_template_with_strategy.csv')\n",
    "    else:\n",
    "        banks = pd.read_csv('data_input/bank_template_with_strategy_1.csv')\n",
    "    accounts = pd.read_csv('data_input/account_template_with_collateral.csv')\n",
    "    sim_name = 'test_sim'\n",
    "    sim = ABMSim(name=sim_name, banks=banks, accounts=accounts, strategy_mapping=strategy_mapping, open_time='08:00', close_time='10:30', eod_force_settlement=True, txn_arrival_prob=0.8, txn_amount_range=(1,1))\n",
    "    sim.run()\n",
    "    \n",
    "    # extract costs\n",
    "    delay_costs = {}\n",
    "    borrowing_costs = {}\n",
    "    for account in accounts['id'].tolist():\n",
    "        delay_costs[account] = calculate_delay_cost(sim_name, account, delta)\n",
    "        borrowing_costs[account] = calculate_borrowing_cost(sim_name, account, gamma)\n",
    "\n",
    "    # tear down\n",
    "    # Remove each .csv file\n",
    "    # csv_files = glob.glob(\"*.csv\")\n",
    "    # for file in csv_files:\n",
    "    #     os.remove(file)\n",
    "\n",
    "    return delay_costs[focal_account] + borrowing_costs[focal_account]"
   ]
  },
  {
   "cell_type": "code",
   "execution_count": 12,
   "metadata": {},
   "outputs": [],
   "source": [
    "def visualize_costs(total_costs_1: list, total_costs_2: list, label_1=\"Scenario 1\", label_2=\"Scenario 2\"):\n",
    "    # Convert to numpy arrays\n",
    "    costs_1 = np.array(total_costs_1)\n",
    "    costs_2 = np.array(total_costs_2)\n",
    "\n",
    "    # Compute summary statistics\n",
    "    mean_cost_1 = np.mean(costs_1)\n",
    "    median_cost_1 = np.median(costs_1)\n",
    "    std_cost_1 = np.std(costs_1)\n",
    "    \n",
    "    mean_cost_2 = np.mean(costs_2)\n",
    "    median_cost_2 = np.median(costs_2)\n",
    "    std_cost_2 = np.std(costs_2)\n",
    "    \n",
    "    print(f\"{label_1}:\")\n",
    "    print(\"Mean total cost:\", mean_cost_1)\n",
    "    print(\"Median total cost:\", median_cost_1)\n",
    "    print(\"Standard Deviation:\", std_cost_1)\n",
    "    print(\"\")\n",
    "\n",
    "    print(f\"{label_2}:\")\n",
    "    print(\"Mean total cost:\", mean_cost_2)\n",
    "    print(\"Median total cost:\", median_cost_2)\n",
    "    print(\"Standard Deviation:\", std_cost_2)\n",
    "    print(\"\")\n",
    "\n",
    "    # Plot histograms\n",
    "    plt.figure(figsize=(8,6))\n",
    "    plt.hist(costs_1, bins='auto', density=True, alpha=0.5, color='blue', edgecolor='black', label=label_1)\n",
    "    plt.hist(costs_2, bins='auto', density=True, alpha=0.5, color='orange', edgecolor='black', label=label_2)\n",
    "\n",
    "    # Overlay the mean and median as vertical lines\n",
    "    plt.axvline(mean_cost_1, color='blue', linestyle='dashed', linewidth=2, label=f'{label_1} Mean: {mean_cost_1:.2f}')\n",
    "    plt.axvline(median_cost_1, color='blue', linestyle='dotted', linewidth=2, label=f'{label_1} Median: {median_cost_1:.2f}')\n",
    "    \n",
    "    plt.axvline(mean_cost_2, color='orange', linestyle='dashed', linewidth=2, label=f'{label_2} Mean: {mean_cost_2:.2f}')\n",
    "    plt.axvline(median_cost_2, color='orange', linestyle='dotted', linewidth=2, label=f'{label_2} Median: {median_cost_2:.2f}')\n",
    "\n",
    "    plt.title('Comparison of Total Cost Distributions')\n",
    "    plt.xlabel('Total Cost')\n",
    "    plt.ylabel('Density')\n",
    "    plt.legend()\n",
    "\n",
    "    plt.show()\n"
   ]
  },
  {
   "cell_type": "markdown",
   "metadata": {},
   "source": [
    "#### Delay Costs > Borrowing Costs"
   ]
  },
  {
   "cell_type": "code",
   "execution_count": 13,
   "metadata": {},
   "outputs": [],
   "source": [
    "p_t = 0.8\n",
    "delta = 0.3\n",
    "gamma = 0.2\n",
    "n_simulations = 100"
   ]
  },
  {
   "cell_type": "code",
   "execution_count": 15,
   "metadata": {},
   "outputs": [],
   "source": [
    "total_costs_strategic = []\n",
    "total_costs_non_strategic = []\n",
    "\n",
    "for sim_seed in range(1000, 1000 + n_simulations):\n",
    "    random.seed(sim_seed)\n",
    "    \n",
    "    total_cost_strategic = simulate_original_game(p_t, delta, gamma, sim_seed, True)\n",
    "    total_costs_strategic.append(total_cost_strategic)\n",
    "\n",
    "    total_cost_non_strategic = simulate_original_game(p_t, delta, gamma, sim_seed, False)\n",
    "    total_costs_non_strategic.append(total_cost_non_strategic)"
   ]
  },
  {
   "cell_type": "code",
   "execution_count": 16,
   "metadata": {},
   "outputs": [
    {
     "name": "stdout",
     "output_type": "stream",
     "text": [
      "Strategic:\n",
      "Mean total cost: 20.699999999999996\n",
      "Median total cost: 20.7\n",
      "Standard Deviation: 4.591117879940073e-15\n",
      "\n",
      "Non-Strategic:\n",
      "Mean total cost: 6.6\n",
      "Median total cost: 6.6000000000000005\n",
      "Standard Deviation: 8.881784197001252e-16\n",
      "\n"
     ]
    },
    {
     "ename": "ValueError",
     "evalue": "Too many bins for data range. Cannot create 8 finite-sized bins.",
     "output_type": "error",
     "traceback": [
      "\u001b[0;31m---------------------------------------------------------------------------\u001b[0m",
      "\u001b[0;31mValueError\u001b[0m                                Traceback (most recent call last)",
      "Cell \u001b[0;32mIn[16], line 1\u001b[0m\n\u001b[0;32m----> 1\u001b[0m visualize_costs(total_costs_strategic, total_costs_non_strategic, \u001b[38;5;124m'\u001b[39m\u001b[38;5;124mStrategic\u001b[39m\u001b[38;5;124m'\u001b[39m, \u001b[38;5;124m'\u001b[39m\u001b[38;5;124mNon-Strategic\u001b[39m\u001b[38;5;124m'\u001b[39m)\n",
      "Cell \u001b[0;32mIn[12], line 29\u001b[0m, in \u001b[0;36mvisualize_costs\u001b[0;34m(total_costs_1, total_costs_2, label_1, label_2)\u001b[0m\n\u001b[1;32m     27\u001b[0m \u001b[38;5;66;03m# Plot histograms\u001b[39;00m\n\u001b[1;32m     28\u001b[0m plt\u001b[38;5;241m.\u001b[39mfigure(figsize\u001b[38;5;241m=\u001b[39m(\u001b[38;5;241m8\u001b[39m,\u001b[38;5;241m6\u001b[39m))\n\u001b[0;32m---> 29\u001b[0m plt\u001b[38;5;241m.\u001b[39mhist(costs_1, bins\u001b[38;5;241m=\u001b[39m\u001b[38;5;124m'\u001b[39m\u001b[38;5;124mauto\u001b[39m\u001b[38;5;124m'\u001b[39m, density\u001b[38;5;241m=\u001b[39m\u001b[38;5;28;01mTrue\u001b[39;00m, alpha\u001b[38;5;241m=\u001b[39m\u001b[38;5;241m0.5\u001b[39m, color\u001b[38;5;241m=\u001b[39m\u001b[38;5;124m'\u001b[39m\u001b[38;5;124mblue\u001b[39m\u001b[38;5;124m'\u001b[39m, edgecolor\u001b[38;5;241m=\u001b[39m\u001b[38;5;124m'\u001b[39m\u001b[38;5;124mblack\u001b[39m\u001b[38;5;124m'\u001b[39m, label\u001b[38;5;241m=\u001b[39mlabel_1)\n\u001b[1;32m     30\u001b[0m plt\u001b[38;5;241m.\u001b[39mhist(costs_2, bins\u001b[38;5;241m=\u001b[39m\u001b[38;5;124m'\u001b[39m\u001b[38;5;124mauto\u001b[39m\u001b[38;5;124m'\u001b[39m, density\u001b[38;5;241m=\u001b[39m\u001b[38;5;28;01mTrue\u001b[39;00m, alpha\u001b[38;5;241m=\u001b[39m\u001b[38;5;241m0.5\u001b[39m, color\u001b[38;5;241m=\u001b[39m\u001b[38;5;124m'\u001b[39m\u001b[38;5;124morange\u001b[39m\u001b[38;5;124m'\u001b[39m, edgecolor\u001b[38;5;241m=\u001b[39m\u001b[38;5;124m'\u001b[39m\u001b[38;5;124mblack\u001b[39m\u001b[38;5;124m'\u001b[39m, label\u001b[38;5;241m=\u001b[39mlabel_2)\n\u001b[1;32m     32\u001b[0m \u001b[38;5;66;03m# Overlay the mean and median as vertical lines\u001b[39;00m\n",
      "File \u001b[0;32m~/miniconda3/envs/intradayliquiditygame/lib/python3.13/site-packages/matplotlib/_api/deprecation.py:453\u001b[0m, in \u001b[0;36mmake_keyword_only.<locals>.wrapper\u001b[0;34m(*args, **kwargs)\u001b[0m\n\u001b[1;32m    447\u001b[0m \u001b[38;5;28;01mif\u001b[39;00m \u001b[38;5;28mlen\u001b[39m(args) \u001b[38;5;241m>\u001b[39m name_idx:\n\u001b[1;32m    448\u001b[0m     warn_deprecated(\n\u001b[1;32m    449\u001b[0m         since, message\u001b[38;5;241m=\u001b[39m\u001b[38;5;124m\"\u001b[39m\u001b[38;5;124mPassing the \u001b[39m\u001b[38;5;132;01m%(name)s\u001b[39;00m\u001b[38;5;124m \u001b[39m\u001b[38;5;132;01m%(obj_type)s\u001b[39;00m\u001b[38;5;124m \u001b[39m\u001b[38;5;124m\"\u001b[39m\n\u001b[1;32m    450\u001b[0m         \u001b[38;5;124m\"\u001b[39m\u001b[38;5;124mpositionally is deprecated since Matplotlib \u001b[39m\u001b[38;5;132;01m%(since)s\u001b[39;00m\u001b[38;5;124m; the \u001b[39m\u001b[38;5;124m\"\u001b[39m\n\u001b[1;32m    451\u001b[0m         \u001b[38;5;124m\"\u001b[39m\u001b[38;5;124mparameter will become keyword-only in \u001b[39m\u001b[38;5;132;01m%(removal)s\u001b[39;00m\u001b[38;5;124m.\u001b[39m\u001b[38;5;124m\"\u001b[39m,\n\u001b[1;32m    452\u001b[0m         name\u001b[38;5;241m=\u001b[39mname, obj_type\u001b[38;5;241m=\u001b[39m\u001b[38;5;124mf\u001b[39m\u001b[38;5;124m\"\u001b[39m\u001b[38;5;124mparameter of \u001b[39m\u001b[38;5;132;01m{\u001b[39;00mfunc\u001b[38;5;241m.\u001b[39m\u001b[38;5;18m__name__\u001b[39m\u001b[38;5;132;01m}\u001b[39;00m\u001b[38;5;124m()\u001b[39m\u001b[38;5;124m\"\u001b[39m)\n\u001b[0;32m--> 453\u001b[0m \u001b[38;5;28;01mreturn\u001b[39;00m func(\u001b[38;5;241m*\u001b[39margs, \u001b[38;5;241m*\u001b[39m\u001b[38;5;241m*\u001b[39mkwargs)\n",
      "File \u001b[0;32m~/miniconda3/envs/intradayliquiditygame/lib/python3.13/site-packages/matplotlib/pyplot.py:3469\u001b[0m, in \u001b[0;36mhist\u001b[0;34m(x, bins, range, density, weights, cumulative, bottom, histtype, align, orientation, rwidth, log, color, label, stacked, data, **kwargs)\u001b[0m\n\u001b[1;32m   3444\u001b[0m \u001b[38;5;129m@_copy_docstring_and_deprecators\u001b[39m(Axes\u001b[38;5;241m.\u001b[39mhist)\n\u001b[1;32m   3445\u001b[0m \u001b[38;5;28;01mdef\u001b[39;00m \u001b[38;5;21mhist\u001b[39m(\n\u001b[1;32m   3446\u001b[0m     x: ArrayLike \u001b[38;5;241m|\u001b[39m Sequence[ArrayLike],\n\u001b[0;32m   (...)\u001b[0m\n\u001b[1;32m   3467\u001b[0m     BarContainer \u001b[38;5;241m|\u001b[39m Polygon \u001b[38;5;241m|\u001b[39m \u001b[38;5;28mlist\u001b[39m[BarContainer \u001b[38;5;241m|\u001b[39m Polygon],\n\u001b[1;32m   3468\u001b[0m ]:\n\u001b[0;32m-> 3469\u001b[0m     \u001b[38;5;28;01mreturn\u001b[39;00m gca()\u001b[38;5;241m.\u001b[39mhist(\n\u001b[1;32m   3470\u001b[0m         x,\n\u001b[1;32m   3471\u001b[0m         bins\u001b[38;5;241m=\u001b[39mbins,\n\u001b[1;32m   3472\u001b[0m         \u001b[38;5;28mrange\u001b[39m\u001b[38;5;241m=\u001b[39m\u001b[38;5;28mrange\u001b[39m,\n\u001b[1;32m   3473\u001b[0m         density\u001b[38;5;241m=\u001b[39mdensity,\n\u001b[1;32m   3474\u001b[0m         weights\u001b[38;5;241m=\u001b[39mweights,\n\u001b[1;32m   3475\u001b[0m         cumulative\u001b[38;5;241m=\u001b[39mcumulative,\n\u001b[1;32m   3476\u001b[0m         bottom\u001b[38;5;241m=\u001b[39mbottom,\n\u001b[1;32m   3477\u001b[0m         histtype\u001b[38;5;241m=\u001b[39mhisttype,\n\u001b[1;32m   3478\u001b[0m         align\u001b[38;5;241m=\u001b[39malign,\n\u001b[1;32m   3479\u001b[0m         orientation\u001b[38;5;241m=\u001b[39morientation,\n\u001b[1;32m   3480\u001b[0m         rwidth\u001b[38;5;241m=\u001b[39mrwidth,\n\u001b[1;32m   3481\u001b[0m         log\u001b[38;5;241m=\u001b[39mlog,\n\u001b[1;32m   3482\u001b[0m         color\u001b[38;5;241m=\u001b[39mcolor,\n\u001b[1;32m   3483\u001b[0m         label\u001b[38;5;241m=\u001b[39mlabel,\n\u001b[1;32m   3484\u001b[0m         stacked\u001b[38;5;241m=\u001b[39mstacked,\n\u001b[1;32m   3485\u001b[0m         \u001b[38;5;241m*\u001b[39m\u001b[38;5;241m*\u001b[39m({\u001b[38;5;124m\"\u001b[39m\u001b[38;5;124mdata\u001b[39m\u001b[38;5;124m\"\u001b[39m: data} \u001b[38;5;28;01mif\u001b[39;00m data \u001b[38;5;129;01mis\u001b[39;00m \u001b[38;5;129;01mnot\u001b[39;00m \u001b[38;5;28;01mNone\u001b[39;00m \u001b[38;5;28;01melse\u001b[39;00m {}),\n\u001b[1;32m   3486\u001b[0m         \u001b[38;5;241m*\u001b[39m\u001b[38;5;241m*\u001b[39mkwargs,\n\u001b[1;32m   3487\u001b[0m     )\n",
      "File \u001b[0;32m~/miniconda3/envs/intradayliquiditygame/lib/python3.13/site-packages/matplotlib/_api/deprecation.py:453\u001b[0m, in \u001b[0;36mmake_keyword_only.<locals>.wrapper\u001b[0;34m(*args, **kwargs)\u001b[0m\n\u001b[1;32m    447\u001b[0m \u001b[38;5;28;01mif\u001b[39;00m \u001b[38;5;28mlen\u001b[39m(args) \u001b[38;5;241m>\u001b[39m name_idx:\n\u001b[1;32m    448\u001b[0m     warn_deprecated(\n\u001b[1;32m    449\u001b[0m         since, message\u001b[38;5;241m=\u001b[39m\u001b[38;5;124m\"\u001b[39m\u001b[38;5;124mPassing the \u001b[39m\u001b[38;5;132;01m%(name)s\u001b[39;00m\u001b[38;5;124m \u001b[39m\u001b[38;5;132;01m%(obj_type)s\u001b[39;00m\u001b[38;5;124m \u001b[39m\u001b[38;5;124m\"\u001b[39m\n\u001b[1;32m    450\u001b[0m         \u001b[38;5;124m\"\u001b[39m\u001b[38;5;124mpositionally is deprecated since Matplotlib \u001b[39m\u001b[38;5;132;01m%(since)s\u001b[39;00m\u001b[38;5;124m; the \u001b[39m\u001b[38;5;124m\"\u001b[39m\n\u001b[1;32m    451\u001b[0m         \u001b[38;5;124m\"\u001b[39m\u001b[38;5;124mparameter will become keyword-only in \u001b[39m\u001b[38;5;132;01m%(removal)s\u001b[39;00m\u001b[38;5;124m.\u001b[39m\u001b[38;5;124m\"\u001b[39m,\n\u001b[1;32m    452\u001b[0m         name\u001b[38;5;241m=\u001b[39mname, obj_type\u001b[38;5;241m=\u001b[39m\u001b[38;5;124mf\u001b[39m\u001b[38;5;124m\"\u001b[39m\u001b[38;5;124mparameter of \u001b[39m\u001b[38;5;132;01m{\u001b[39;00mfunc\u001b[38;5;241m.\u001b[39m\u001b[38;5;18m__name__\u001b[39m\u001b[38;5;132;01m}\u001b[39;00m\u001b[38;5;124m()\u001b[39m\u001b[38;5;124m\"\u001b[39m)\n\u001b[0;32m--> 453\u001b[0m \u001b[38;5;28;01mreturn\u001b[39;00m func(\u001b[38;5;241m*\u001b[39margs, \u001b[38;5;241m*\u001b[39m\u001b[38;5;241m*\u001b[39mkwargs)\n",
      "File \u001b[0;32m~/miniconda3/envs/intradayliquiditygame/lib/python3.13/site-packages/matplotlib/__init__.py:1521\u001b[0m, in \u001b[0;36m_preprocess_data.<locals>.inner\u001b[0;34m(ax, data, *args, **kwargs)\u001b[0m\n\u001b[1;32m   1518\u001b[0m \u001b[38;5;129m@functools\u001b[39m\u001b[38;5;241m.\u001b[39mwraps(func)\n\u001b[1;32m   1519\u001b[0m \u001b[38;5;28;01mdef\u001b[39;00m \u001b[38;5;21minner\u001b[39m(ax, \u001b[38;5;241m*\u001b[39margs, data\u001b[38;5;241m=\u001b[39m\u001b[38;5;28;01mNone\u001b[39;00m, \u001b[38;5;241m*\u001b[39m\u001b[38;5;241m*\u001b[39mkwargs):\n\u001b[1;32m   1520\u001b[0m     \u001b[38;5;28;01mif\u001b[39;00m data \u001b[38;5;129;01mis\u001b[39;00m \u001b[38;5;28;01mNone\u001b[39;00m:\n\u001b[0;32m-> 1521\u001b[0m         \u001b[38;5;28;01mreturn\u001b[39;00m func(\n\u001b[1;32m   1522\u001b[0m             ax,\n\u001b[1;32m   1523\u001b[0m             \u001b[38;5;241m*\u001b[39m\u001b[38;5;28mmap\u001b[39m(cbook\u001b[38;5;241m.\u001b[39msanitize_sequence, args),\n\u001b[1;32m   1524\u001b[0m             \u001b[38;5;241m*\u001b[39m\u001b[38;5;241m*\u001b[39m{k: cbook\u001b[38;5;241m.\u001b[39msanitize_sequence(v) \u001b[38;5;28;01mfor\u001b[39;00m k, v \u001b[38;5;129;01min\u001b[39;00m kwargs\u001b[38;5;241m.\u001b[39mitems()})\n\u001b[1;32m   1526\u001b[0m     bound \u001b[38;5;241m=\u001b[39m new_sig\u001b[38;5;241m.\u001b[39mbind(ax, \u001b[38;5;241m*\u001b[39margs, \u001b[38;5;241m*\u001b[39m\u001b[38;5;241m*\u001b[39mkwargs)\n\u001b[1;32m   1527\u001b[0m     auto_label \u001b[38;5;241m=\u001b[39m (bound\u001b[38;5;241m.\u001b[39marguments\u001b[38;5;241m.\u001b[39mget(label_namer)\n\u001b[1;32m   1528\u001b[0m                   \u001b[38;5;129;01mor\u001b[39;00m bound\u001b[38;5;241m.\u001b[39mkwargs\u001b[38;5;241m.\u001b[39mget(label_namer))\n",
      "File \u001b[0;32m~/miniconda3/envs/intradayliquiditygame/lib/python3.13/site-packages/matplotlib/axes/_axes.py:7093\u001b[0m, in \u001b[0;36mAxes.hist\u001b[0;34m(self, x, bins, range, density, weights, cumulative, bottom, histtype, align, orientation, rwidth, log, color, label, stacked, **kwargs)\u001b[0m\n\u001b[1;32m   7089\u001b[0m \u001b[38;5;66;03m# Loop through datasets\u001b[39;00m\n\u001b[1;32m   7090\u001b[0m \u001b[38;5;28;01mfor\u001b[39;00m i \u001b[38;5;129;01min\u001b[39;00m \u001b[38;5;28mrange\u001b[39m(nx):\n\u001b[1;32m   7091\u001b[0m     \u001b[38;5;66;03m# this will automatically overwrite bins,\u001b[39;00m\n\u001b[1;32m   7092\u001b[0m     \u001b[38;5;66;03m# so that each histogram uses the same bins\u001b[39;00m\n\u001b[0;32m-> 7093\u001b[0m     m, bins \u001b[38;5;241m=\u001b[39m np\u001b[38;5;241m.\u001b[39mhistogram(x[i], bins, weights\u001b[38;5;241m=\u001b[39mw[i], \u001b[38;5;241m*\u001b[39m\u001b[38;5;241m*\u001b[39mhist_kwargs)\n\u001b[1;32m   7094\u001b[0m     tops\u001b[38;5;241m.\u001b[39mappend(m)\n\u001b[1;32m   7095\u001b[0m tops \u001b[38;5;241m=\u001b[39m np\u001b[38;5;241m.\u001b[39marray(tops, \u001b[38;5;28mfloat\u001b[39m)  \u001b[38;5;66;03m# causes problems later if it's an int\u001b[39;00m\n",
      "File \u001b[0;32m~/miniconda3/envs/intradayliquiditygame/lib/python3.13/site-packages/numpy/lib/_histograms_impl.py:796\u001b[0m, in \u001b[0;36mhistogram\u001b[0;34m(a, bins, range, density, weights)\u001b[0m\n\u001b[1;32m    691\u001b[0m \u001b[38;5;250m\u001b[39m\u001b[38;5;124mr\u001b[39m\u001b[38;5;124;03m\"\"\"\u001b[39;00m\n\u001b[1;32m    692\u001b[0m \u001b[38;5;124;03mCompute the histogram of a dataset.\u001b[39;00m\n\u001b[1;32m    693\u001b[0m \n\u001b[0;32m   (...)\u001b[0m\n\u001b[1;32m    792\u001b[0m \n\u001b[1;32m    793\u001b[0m \u001b[38;5;124;03m\"\"\"\u001b[39;00m\n\u001b[1;32m    794\u001b[0m a, weights \u001b[38;5;241m=\u001b[39m _ravel_and_check_weights(a, weights)\n\u001b[0;32m--> 796\u001b[0m bin_edges, uniform_bins \u001b[38;5;241m=\u001b[39m _get_bin_edges(a, bins, \u001b[38;5;28mrange\u001b[39m, weights)\n\u001b[1;32m    798\u001b[0m \u001b[38;5;66;03m# Histogram is an integer or a float array depending on the weights.\u001b[39;00m\n\u001b[1;32m    799\u001b[0m \u001b[38;5;28;01mif\u001b[39;00m weights \u001b[38;5;129;01mis\u001b[39;00m \u001b[38;5;28;01mNone\u001b[39;00m:\n",
      "File \u001b[0;32m~/miniconda3/envs/intradayliquiditygame/lib/python3.13/site-packages/numpy/lib/_histograms_impl.py:453\u001b[0m, in \u001b[0;36m_get_bin_edges\u001b[0;34m(a, bins, range, weights)\u001b[0m\n\u001b[1;32m    449\u001b[0m     bin_edges \u001b[38;5;241m=\u001b[39m np\u001b[38;5;241m.\u001b[39mlinspace(\n\u001b[1;32m    450\u001b[0m         first_edge, last_edge, n_equal_bins \u001b[38;5;241m+\u001b[39m \u001b[38;5;241m1\u001b[39m,\n\u001b[1;32m    451\u001b[0m         endpoint\u001b[38;5;241m=\u001b[39m\u001b[38;5;28;01mTrue\u001b[39;00m, dtype\u001b[38;5;241m=\u001b[39mbin_type)\n\u001b[1;32m    452\u001b[0m     \u001b[38;5;28;01mif\u001b[39;00m np\u001b[38;5;241m.\u001b[39many(bin_edges[:\u001b[38;5;241m-\u001b[39m\u001b[38;5;241m1\u001b[39m] \u001b[38;5;241m>\u001b[39m\u001b[38;5;241m=\u001b[39m bin_edges[\u001b[38;5;241m1\u001b[39m:]):\n\u001b[0;32m--> 453\u001b[0m         \u001b[38;5;28;01mraise\u001b[39;00m \u001b[38;5;167;01mValueError\u001b[39;00m(\n\u001b[1;32m    454\u001b[0m             \u001b[38;5;124mf\u001b[39m\u001b[38;5;124m'\u001b[39m\u001b[38;5;124mToo many bins for data range. Cannot create \u001b[39m\u001b[38;5;132;01m{\u001b[39;00mn_equal_bins\u001b[38;5;132;01m}\u001b[39;00m\u001b[38;5;124m \u001b[39m\u001b[38;5;124m'\u001b[39m\n\u001b[1;32m    455\u001b[0m             \u001b[38;5;124mf\u001b[39m\u001b[38;5;124m'\u001b[39m\u001b[38;5;124mfinite-sized bins.\u001b[39m\u001b[38;5;124m'\u001b[39m)\n\u001b[1;32m    456\u001b[0m     \u001b[38;5;28;01mreturn\u001b[39;00m bin_edges, (first_edge, last_edge, n_equal_bins)\n\u001b[1;32m    457\u001b[0m \u001b[38;5;28;01melse\u001b[39;00m:\n",
      "\u001b[0;31mValueError\u001b[0m: Too many bins for data range. Cannot create 8 finite-sized bins."
     ]
    },
    {
     "data": {
      "image/png": "[encoded data removed]",
      "text/plain": [
       "<Figure size 800x600 with 1 Axes>"
      ]
     },
     "metadata": {},
     "output_type": "display_data"
    }
   ],
   "source": [
    "visualize_costs(total_costs_strategic, total_costs_non_strategic, 'Strategic', 'Non-Strategic')"
   ]
  },
  {
   "cell_type": "markdown",
   "metadata": {},
   "source": [
    "#### Delay Costs < Borrowing Costs"
   ]
  },
  {
   "cell_type": "code",
   "execution_count": null,
   "metadata": {},
   "outputs": [
    {
     "ename": "",
     "evalue": "",
     "output_type": "error",
     "traceback": [
      "\u001b[1;31mnotebook controller is DISPOSED. \n",
      "\u001b[1;31mView Jupyter <a href='command:jupyter.viewOutput'>log</a> for further details."
     ]
    },
    {
     "ename": "",
     "evalue": "",
     "output_type": "error",
     "traceback": [
      "\u001b[1;31mnotebook controller is DISPOSED. \n",
      "\u001b[1;31mView Jupyter <a href='command:jupyter.viewOutput'>log</a> for further details."
     ]
    },
    {
     "ename": "",
     "evalue": "",
     "output_type": "error",
     "traceback": [
      "\u001b[1;31mnotebook controller is DISPOSED. \n",
      "\u001b[1;31mView Jupyter <a href='command:jupyter.viewOutput'>log</a> for further details."
     ]
    },
    {
     "ename": "",
     "evalue": "",
     "output_type": "error",
     "traceback": [
      "\u001b[1;31mnotebook controller is DISPOSED. \n",
      "\u001b[1;31mView Jupyter <a href='command:jupyter.viewOutput'>log</a> for further details."
     ]
    },
    {
     "ename": "",
     "evalue": "",
     "output_type": "error",
     "traceback": [
      "\u001b[1;31mnotebook controller is DISPOSED. \n",
      "\u001b[1;31mView Jupyter <a href='command:jupyter.viewOutput'>log</a> for further details."
     ]
    },
    {
     "ename": "",
     "evalue": "",
     "output_type": "error",
     "traceback": [
      "\u001b[1;31mnotebook controller is DISPOSED. \n",
      "\u001b[1;31mView Jupyter <a href='command:jupyter.viewOutput'>log</a> for further details."
     ]
    }
   ],
   "source": [
    "p_t = 0.8\n",
    "delta = 0.2\n",
    "gamma = 0.3\n",
    "n_simulations = 100"
   ]
  },
  {
   "cell_type": "code",
   "execution_count": null,
   "metadata": {},
   "outputs": [
    {
     "ename": "",
     "evalue": "",
     "output_type": "error",
     "traceback": [
      "\u001b[1;31mnotebook controller is DISPOSED. \n",
      "\u001b[1;31mView Jupyter <a href='command:jupyter.viewOutput'>log</a> for further details."
     ]
    },
    {
     "ename": "",
     "evalue": "",
     "output_type": "error",
     "traceback": [
      "\u001b[1;31mnotebook controller is DISPOSED. \n",
      "\u001b[1;31mView Jupyter <a href='command:jupyter.viewOutput'>log</a> for further details."
     ]
    },
    {
     "ename": "",
     "evalue": "",
     "output_type": "error",
     "traceback": [
      "\u001b[1;31mnotebook controller is DISPOSED. \n",
      "\u001b[1;31mView Jupyter <a href='command:jupyter.viewOutput'>log</a> for further details."
     ]
    },
    {
     "ename": "",
     "evalue": "",
     "output_type": "error",
     "traceback": [
      "\u001b[1;31mnotebook controller is DISPOSED. \n",
      "\u001b[1;31mView Jupyter <a href='command:jupyter.viewOutput'>log</a> for further details."
     ]
    },
    {
     "ename": "",
     "evalue": "",
     "output_type": "error",
     "traceback": [
      "\u001b[1;31mnotebook controller is DISPOSED. \n",
      "\u001b[1;31mView Jupyter <a href='command:jupyter.viewOutput'>log</a> for further details."
     ]
    },
    {
     "ename": "",
     "evalue": "",
     "output_type": "error",
     "traceback": [
      "\u001b[1;31mnotebook controller is DISPOSED. \n",
      "\u001b[1;31mView Jupyter <a href='command:jupyter.viewOutput'>log</a> for further details."
     ]
    }
   ],
   "source": [
    "total_costs_strategic = []\n",
    "total_costs_non_strategic = []\n",
    "\n",
    "for sim_seed in range(1000, 1000 + n_simulations):\n",
    "    random.seed(sim_seed)\n",
    "    total_cost_strategic = simulate_original_game(p_t, delta, gamma, sim_seed, True)\n",
    "    total_costs_strategic.append(total_cost_strategic)\n",
    "\n",
    "    total_cost_non_strategic = simulate_original_game(p_t, delta, gamma, sim_seed, False)\n",
    "    total_costs_non_strategic.append(total_cost_non_strategic)"
   ]
  },
  {
   "cell_type": "code",
   "execution_count": null,
   "metadata": {},
   "outputs": [
    {
     "ename": "",
     "evalue": "",
     "output_type": "error",
     "traceback": [
      "\u001b[1;31mnotebook controller is DISPOSED. \n",
      "\u001b[1;31mView Jupyter <a href='command:jupyter.viewOutput'>log</a> for further details."
     ]
    },
    {
     "ename": "",
     "evalue": "",
     "output_type": "error",
     "traceback": [
      "\u001b[1;31mnotebook controller is DISPOSED. \n",
      "\u001b[1;31mView Jupyter <a href='command:jupyter.viewOutput'>log</a> for further details."
     ]
    },
    {
     "ename": "",
     "evalue": "",
     "output_type": "error",
     "traceback": [
      "\u001b[1;31mnotebook controller is DISPOSED. \n",
      "\u001b[1;31mView Jupyter <a href='command:jupyter.viewOutput'>log</a> for further details."
     ]
    },
    {
     "ename": "",
     "evalue": "",
     "output_type": "error",
     "traceback": [
      "\u001b[1;31mnotebook controller is DISPOSED. \n",
      "\u001b[1;31mView Jupyter <a href='command:jupyter.viewOutput'>log</a> for further details."
     ]
    },
    {
     "ename": "",
     "evalue": "",
     "output_type": "error",
     "traceback": [
      "\u001b[1;31mnotebook controller is DISPOSED. \n",
      "\u001b[1;31mView Jupyter <a href='command:jupyter.viewOutput'>log</a> for further details."
     ]
    },
    {
     "ename": "",
     "evalue": "",
     "output_type": "error",
     "traceback": [
      "\u001b[1;31mnotebook controller is DISPOSED. \n",
      "\u001b[1;31mView Jupyter <a href='command:jupyter.viewOutput'>log</a> for further details."
     ]
    }
   ],
   "source": [
    "visualize_costs(total_costs_strategic, total_costs_non_strategic, 'Strategic', 'Non-Strategic')"
   ]
  },
  {
   "cell_type": "code",
   "execution_count": null,
   "metadata": {},
   "outputs": [
    {
     "ename": "",
     "evalue": "",
     "output_type": "error",
     "traceback": [
      "\u001b[1;31mnotebook controller is DISPOSED. \n",
      "\u001b[1;31mView Jupyter <a href='command:jupyter.viewOutput'>log</a> for further details."
     ]
    },
    {
     "ename": "",
     "evalue": "",
     "output_type": "error",
     "traceback": [
      "\u001b[1;31mnotebook controller is DISPOSED. \n",
      "\u001b[1;31mView Jupyter <a href='command:jupyter.viewOutput'>log</a> for further details."
     ]
    },
    {
     "ename": "",
     "evalue": "",
     "output_type": "error",
     "traceback": [
      "\u001b[1;31mnotebook controller is DISPOSED. \n",
      "\u001b[1;31mView Jupyter <a href='command:jupyter.viewOutput'>log</a> for further details."
     ]
    },
    {
     "ename": "",
     "evalue": "",
     "output_type": "error",
     "traceback": [
      "\u001b[1;31mnotebook controller is DISPOSED. \n",
      "\u001b[1;31mView Jupyter <a href='command:jupyter.viewOutput'>log</a> for further details."
     ]
    },
    {
     "ename": "",
     "evalue": "",
     "output_type": "error",
     "traceback": [
      "\u001b[1;31mnotebook controller is DISPOSED. \n",
      "\u001b[1;31mView Jupyter <a href='command:jupyter.viewOutput'>log</a> for further details."
     ]
    },
    {
     "ename": "",
     "evalue": "",
     "output_type": "error",
     "traceback": [
      "\u001b[1;31mnotebook controller is DISPOSED. \n",
      "\u001b[1;31mView Jupyter <a href='command:jupyter.viewOutput'>log</a> for further details."
     ]
    }
   ],
   "source": [
    "print(total_costs_non_strategic)"
   ]
  },
  {
   "cell_type": "code",
   "execution_count": null,
   "metadata": {},
   "outputs": [
    {
     "ename": "",
     "evalue": "",
     "output_type": "error",
     "traceback": [
      "\u001b[1;31mnotebook controller is DISPOSED. \n",
      "\u001b[1;31mView Jupyter <a href='command:jupyter.viewOutput'>log</a> for further details."
     ]
    },
    {
     "ename": "",
     "evalue": "",
     "output_type": "error",
     "traceback": [
      "\u001b[1;31mnotebook controller is DISPOSED. \n",
      "\u001b[1;31mView Jupyter <a href='command:jupyter.viewOutput'>log</a> for further details."
     ]
    },
    {
     "ename": "",
     "evalue": "",
     "output_type": "error",
     "traceback": [
      "\u001b[1;31mnotebook controller is DISPOSED. \n",
      "\u001b[1;31mView Jupyter <a href='command:jupyter.viewOutput'>log</a> for further details."
     ]
    },
    {
     "ename": "",
     "evalue": "",
     "output_type": "error",
     "traceback": [
      "\u001b[1;31mnotebook controller is DISPOSED. \n",
      "\u001b[1;31mView Jupyter <a href='command:jupyter.viewOutput'>log</a> for further details."
     ]
    },
    {
     "ename": "",
     "evalue": "",
     "output_type": "error",
     "traceback": [
      "\u001b[1;31mnotebook controller is DISPOSED. \n",
      "\u001b[1;31mView Jupyter <a href='command:jupyter.viewOutput'>log</a> for further details."
     ]
    },
    {
     "ename": "",
     "evalue": "",
     "output_type": "error",
     "traceback": [
      "\u001b[1;31mnotebook controller is DISPOSED. \n",
      "\u001b[1;31mView Jupyter <a href='command:jupyter.viewOutput'>log</a> for further details."
     ]
    }
   ],
   "source": []
  }
 ],
 "metadata": {
  "kernelspec": {
   "display_name": "intradayliquiditygame",
   "language": "python",
   "name": "python3"
  },
  "language_info": {
   "codemirror_mode": {
    "name": "ipython",
    "version": 3
   },
   "file_extension": ".py",
   "mimetype": "text/x-python",
   "name": "python",
   "nbconvert_exporter": "python",
   "pygments_lexer": "ipython3",
   "version": "3.13.2"
  }
 },
 "nbformat": 4,
 "nbformat_minor": 2
}
